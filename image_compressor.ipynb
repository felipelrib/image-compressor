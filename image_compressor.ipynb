{
 "cells": [
  {
   "cell_type": "markdown",
   "metadata": {},
   "source": [
    "# Trabalho Prático 1 - Introdução à Computação Visual"
   ]
  },
  {
   "cell_type": "markdown",
   "metadata": {},
   "source": [
    "## Introdução\n",
    "\n",
    "O objetivo deste trabalho é a implementação de um método de compressão de imagens em escala de cinza. Deverá ser possível comprimir uma imagem sem compressão passada como entrada, salvar essa imagem e, posteriormente, passar como entrada uma imagem comprimida pelo método aqui implementado e exibi-la. A compressão pode ser tanto com perda quanto sem perda. O PSNR deverá ser exibido após a compressão da imagem."
   ]
  },
  {
   "cell_type": "markdown",
   "metadata": {},
   "source": [
    "## Implementação\n",
    "\n",
    "O método implementado neste trabalho consiste na implementação da codificação preditiva sem perdas com o processo da codificação de Huffman no final. Para uma dada imagem inserida, o compressor irá salvar somente o primeiro pixel da imagem, presente na origem (0, 0). A partir daí, uma função de predição irá tentar retornar o valor do próximo pixel. A diferença entre o valor predito e o valor real será o erro obtido. Esse erro será o valor salvo para codificação naquele ponto, de forma a reduzir a entropia da imagem, obtendo, no final, uma matriz com uma frequência alta de poucos valores. Os valores dessa matriz serão, ao final, codificados em uma árvore com a codificação de Huffman, diminuindo o número médio de bits por pixel.\n",
    "\n",
    "Para obter a imagem novamente, será necessário somente realizar um processo para reverter a codificação de Huffman e, a partir do primeiro pixel, gerar os pixels seguintes, de acordo com a diferença obtida entre a função inversa de predição e o valor real, que estará na matriz.\n",
    "\n",
    "Para podermos testar o impacto de cada um dos dois métodos utilizados na taxa de compressão, o algoritmo será modularizado e parametrizado de forma que possa ser utilizado livremente qualquer um dos dois métodos a qualquer momento, além de poder utilizar os dois em conjunto."
   ]
  },
  {
   "cell_type": "markdown",
   "metadata": {},
   "source": [
    "### Importações"
   ]
  },
  {
   "cell_type": "code",
   "execution_count": 1,
   "metadata": {},
   "outputs": [],
   "source": [
    "%matplotlib inline\n",
    "import cv2\n",
    "import numpy as np\n",
    "from matplotlib import pyplot as plt"
   ]
  },
  {
   "cell_type": "markdown",
   "metadata": {},
   "source": [
    "### Definições de variáveis constantes"
   ]
  },
  {
   "cell_type": "code",
   "execution_count": 2,
   "metadata": {},
   "outputs": [],
   "source": [
    "INPUT_UNCOMPRESSED_IMG_PATH = \"lena512.pgm\"\n",
    "OUTPUT_COMPRESSED_IMG_PATH = \"./\"\n",
    "INPUT_COMPRESSED_IMG_PATH = \"lena512.mycompress\"\n",
    "\n",
    "# Alterar essas variáveis irá ativar ou desativar esses métodos de compressão.\n",
    "USE_HUFFMAN = True\n",
    "USE_PREDICTION = True"
   ]
  },
  {
   "cell_type": "markdown",
   "metadata": {},
   "source": [
    "### Implementação da codificação preditiva e sua decodificação"
   ]
  },
  {
   "cell_type": "code",
   "execution_count": 3,
   "metadata": {},
   "outputs": [],
   "source": [
    "def predictionFunction(x, raveledImg):\n",
    "    return raveledImg[x - 1]\n",
    "\n",
    "def predictiveCode(img):\n",
    "    imgShape = img.shape\n",
    "    raveledImg = img.ravel()\n",
    "    firstElement = raveledImg[0]\n",
    "    errorMatrix = np.empty(raveledImg.shape, dtype=int)\n",
    "    # O primeiro elemento não terá erro, pois seu valor será passado diretamente ao cabeçalho.\n",
    "    errorMatrix[0] = 0\n",
    "    for x, currentValue in enumerate(raveledImg[1:], 1):\n",
    "        predictedValue = predictionFunction(x, raveledImg)\n",
    "        error = int(currentValue) - int(predictedValue)\n",
    "        errorMatrix[x] = error\n",
    "    errorMatrix = errorMatrix.reshape(imgShape)\n",
    "    return errorMatrix, firstElement\n",
    "    \n",
    "def predictiveDecode(errorMatrix, firstElement):\n",
    "    imgShape = errorMatrix.shape\n",
    "    errorMatrix = errorMatrix.ravel()\n",
    "    img = np.empty(errorMatrix.shape, dtype=int)\n",
    "    # Como a função de predição utiliza o elemento anterior, ao menos o primeiro elemento deve estar preenchido.\n",
    "    img[0] = firstElement\n",
    "    for x, error in enumerate(errorMatrix[1:], 1):\n",
    "        predictedValue = predictionFunction(x, img)\n",
    "        img[x] = predictedValue + error\n",
    "    img = img.reshape(imgShape)\n",
    "    return img"
   ]
  },
  {
   "cell_type": "markdown",
   "metadata": {},
   "source": [
    "### Implementação da codificação de Huffman e sua decodificação"
   ]
  },
  {
   "cell_type": "code",
   "execution_count": null,
   "metadata": {},
   "outputs": [],
   "source": []
  },
  {
   "cell_type": "markdown",
   "metadata": {},
   "source": [
    "### Implementação da codificação binária tradicional"
   ]
  },
  {
   "cell_type": "code",
   "execution_count": null,
   "metadata": {},
   "outputs": [],
   "source": []
  },
  {
   "cell_type": "markdown",
   "metadata": {},
   "source": [
    "### Definição das funções de escrita e leitura de imagens comprimidas"
   ]
  },
  {
   "cell_type": "code",
   "execution_count": 4,
   "metadata": {},
   "outputs": [],
   "source": [
    "def writeCompressedImage(img, codingTree=None):\n",
    "    None\n",
    "    \n",
    "def readCompressedImage(file):\n",
    "    None"
   ]
  },
  {
   "cell_type": "markdown",
   "metadata": {},
   "source": [
    "### Definição das funções gerais"
   ]
  },
  {
   "cell_type": "code",
   "execution_count": 5,
   "metadata": {},
   "outputs": [],
   "source": [
    "def showImage(img, title=\"Image\"):\n",
    "    plt.title(title)\n",
    "    plt.imshow(img, cmap = 'gray')\n",
    "    plt.show()\n",
    "\n",
    "def compressImageAndShowResults(imgPath):\n",
    "    img = cv2.imread(imgPath, cv2.IMREAD_GRAYSCALE)\n",
    "    showImage(img)"
   ]
  },
  {
   "cell_type": "markdown",
   "metadata": {},
   "source": [
    "### Sandbox para uso das funções"
   ]
  },
  {
   "cell_type": "code",
   "execution_count": 6,
   "metadata": {},
   "outputs": [
    {
     "name": "stdout",
     "output_type": "stream",
     "text": [
      "True\n"
     ]
    },
    {
     "data": {
      "text/plain": [
       "(array([-168, -161, -160, -159, -158, -157, -156, -155, -154, -153, -151,\n",
       "        -150, -147, -146, -145, -143, -142, -141, -139, -138, -137, -136,\n",
       "        -135, -134, -133, -132, -130, -129, -128, -127, -126, -125, -124,\n",
       "        -123, -122, -121, -120, -119, -118, -117, -116, -115, -114, -112,\n",
       "        -111, -110, -109, -108, -107, -106, -105, -104, -103, -102, -101,\n",
       "        -100,  -99,  -98,  -97,  -96,  -95,  -94,  -93,  -92,  -91,  -90,\n",
       "         -89,  -88,  -87,  -86,  -85,  -84,  -83,  -82,  -81,  -80,  -79,\n",
       "         -78,  -77,  -76,  -75,  -74,  -73,  -72,  -71,  -70,  -69,  -68,\n",
       "         -67,  -66,  -65,  -64,  -63,  -62,  -61,  -60,  -59,  -58,  -57,\n",
       "         -56,  -55,  -54,  -53,  -52,  -51,  -50,  -49,  -48,  -47,  -46,\n",
       "         -45,  -44,  -43,  -42,  -41,  -40,  -39,  -38,  -37,  -36,  -35,\n",
       "         -34,  -33,  -32,  -31,  -30,  -29,  -28,  -27,  -26,  -25,  -24,\n",
       "         -23,  -22,  -21,  -20,  -19,  -18,  -17,  -16,  -15,  -14,  -13,\n",
       "         -12,  -11,  -10,   -9,   -8,   -7,   -6,   -5,   -4,   -3,   -2,\n",
       "          -1,    0,    1,    2,    3,    4,    5,    6,    7,    8,    9,\n",
       "          10,   11,   12,   13,   14,   15,   16,   17,   18,   19,   20,\n",
       "          21,   22,   23,   24,   25,   26,   27,   28,   29,   30,   31,\n",
       "          32,   33,   34,   35,   36,   37,   38,   39,   40,   41,   42,\n",
       "          43,   44,   45,   46,   47,   48,   49,   50,   51,   52,   53,\n",
       "          54,   55,   56,   57,   58,   59,   60,   61,   62,   63,   64,\n",
       "          65,   66,   67,   68,   69,   70,   71,   72,   73,   74,   75,\n",
       "          76,   77,   78,   79,   80,   81,   82,   83,   84,   85,   86,\n",
       "          87,   88,   89,   90,   91,   92,   93,   94,   95,   96,   98,\n",
       "          99,  100,  101,  102,  103,  104,  105,  106,  107,  108,  109,\n",
       "         110,  111,  112,  113,  114,  115,  116,  117,  118,  119,  123,\n",
       "         131,  138,  139,  143]),\n",
       " array([    1,     1,     4,     1,     2,     2,     4,     3,     4,\n",
       "            2,     1,     3,     1,     1,     1,     1,     3,     2,\n",
       "            3,     1,     1,     2,     1,     2,     1,     1,     6,\n",
       "            1,     3,     3,     4,     1,     5,     4,     3,     4,\n",
       "            6,     5,     2,     5,     6,     2,     5,     4,     9,\n",
       "            3,     5,     6,     5,     4,     7,     7,     3,     7,\n",
       "            7,     8,     8,    11,     4,     8,     7,     4,     3,\n",
       "            5,     9,    12,     7,    16,    14,     8,     4,    14,\n",
       "            9,    10,     8,    11,    13,     9,    20,    20,    23,\n",
       "           31,    22,    20,    36,    36,    32,    31,    41,    31,\n",
       "           31,    42,    40,    40,    41,    44,    55,    51,    47,\n",
       "           56,    59,    63,    79,    67,    69,    86,    85,    88,\n",
       "           83,   106,   106,   119,   115,   116,   140,   134,   147,\n",
       "          173,   172,   188,   201,   200,   220,   217,   305,   300,\n",
       "          302,   351,   389,   444,   405,   472,   549,   535,   582,\n",
       "          715,   716,   820,   919,  1083,  1196,  1366,  1465,  1915,\n",
       "         2201,  2708,  3273,  4065,  5348,  6815,  8757, 11342, 14356,\n",
       "        17272, 20047, 22333, 20595, 18857, 15665, 12891, 10020,  7727,\n",
       "         6128,  4723,  3782,  3076,  2426,  2063,  1746,  1440,  1259,\n",
       "         1085,   949,   855,   748,   649,   596,   561,   478,   439,\n",
       "          411,   381,   339,   330,   282,   288,   230,   236,   223,\n",
       "          212,   183,   151,   152,   157,   148,   142,   118,   103,\n",
       "          117,   106,    83,    68,    97,    86,    72,    67,    59,\n",
       "           59,    70,    59,    59,    44,    47,    37,    32,    37,\n",
       "           27,    35,    22,    30,    27,    28,    29,    25,    22,\n",
       "           26,    14,    16,    20,    17,     6,     7,     8,    12,\n",
       "            6,    13,     6,     8,    10,    15,     4,     3,     2,\n",
       "            4,     3,     8,     3,     4,     3,     3,     6,     1,\n",
       "            1,     2,     1,     4,     1,     2,     6,     3,     5,\n",
       "            5,     4,     2,     6,     2,     3,     4,     5,     2,\n",
       "            2,     5,     3,     1,     1,     1,     3,     1,     1],\n",
       "       dtype=int64))"
      ]
     },
     "execution_count": 6,
     "metadata": {},
     "output_type": "execute_result"
    }
   ],
   "source": [
    "# compressImageAndShowResults(INPUT_UNCOMPRESSED_IMG_PATH)\n",
    "img = cv2.imread(INPUT_UNCOMPRESSED_IMG_PATH, cv2.IMREAD_GRAYSCALE)\n",
    "errorMatrix, firstElement = predictiveCode(img)\n",
    "decodedMatrix = predictiveDecode(errorMatrix, firstElement)\n",
    "print(decodedMatrix.all() == img.all())\n",
    "np.unique(errorMatrix, return_counts=True)"
   ]
  },
  {
   "cell_type": "code",
   "execution_count": null,
   "metadata": {},
   "outputs": [],
   "source": []
  }
 ],
 "metadata": {
  "kernelspec": {
   "display_name": "Python 3",
   "language": "python",
   "name": "python3"
  },
  "language_info": {
   "codemirror_mode": {
    "name": "ipython",
    "version": 3
   },
   "file_extension": ".py",
   "mimetype": "text/x-python",
   "name": "python",
   "nbconvert_exporter": "python",
   "pygments_lexer": "ipython3",
   "version": "3.8.6"
  }
 },
 "nbformat": 4,
 "nbformat_minor": 4
}
