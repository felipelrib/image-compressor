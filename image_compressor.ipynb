{
 "cells": [
  {
   "cell_type": "markdown",
   "metadata": {},
   "source": [
    "# Trabalho Prático 1 - Introdução à Computação Visual"
   ]
  },
  {
   "cell_type": "markdown",
   "metadata": {},
   "source": [
    "## Introdução\n",
    "\n",
    "O objetivo deste trabalho é a implementação de um método de compressão de imagens em escala de cinza. Deverá ser possível comprimir uma imagem sem compressão passada como entrada, salvar essa imagem e, posteriormente, passar como entrada uma imagem comprimida pelo método aqui implementado e exibi-la. A compressão pode ser tanto com perda quanto sem perda. O PSNR deverá ser exibido após a compressão da imagem."
   ]
  },
  {
   "cell_type": "markdown",
   "metadata": {},
   "source": [
    "## Implementação\n",
    "\n",
    "O método implementado neste trabalho consiste na implementação da codificação preditiva sem perdas com o processo da codificação de Huffman no final. Para uma dada imagem inserida, o compressor irá salvar somente o primeiro pixel da imagem, presente na origem (0, 0). A partir daí, uma função de predição irá tentar retornar o valor do próximo pixel. A diferença entre o valor predito e o valor real será o erro obtido. Esse erro será o valor salvo para codificação naquele ponto, de forma a reduzir a entropia da imagem, obtendo, no final, uma matriz com uma frequência alta de poucos valores. Os valores dessa matriz serão, ao final, codificados em uma árvore com a codificação de Huffman, diminuindo o número médio de bits por pixel.\n",
    "\n",
    "Para obter a imagem novamente, será necessário somente realizar um processo para reverter a codificação de Huffman e, a partir do primeiro pixel, gerar os pixels seguintes, de acordo com a diferença obtida entre a função inversa de predição e o valor real, que estará na matriz.\n",
    "\n",
    "Para podermos testar o impacto de cada um dos dois métodos utilizados na taxa de compressão, o algoritmo será modularizado e parametrizado de forma que possa ser utilizado livremente qualquer um dos dois métodos a qualquer momento, além de poder utilizar os dois em conjunto."
   ]
  },
  {
   "cell_type": "markdown",
   "metadata": {},
   "source": [
    "### Importações"
   ]
  },
  {
   "cell_type": "code",
   "execution_count": 1,
   "metadata": {},
   "outputs": [],
   "source": [
    "%matplotlib inline\n",
    "import cv2\n",
    "import numpy as np\n",
    "from matplotlib import pyplot as plt\n",
    "import heapq\n",
    "import base64"
   ]
  },
  {
   "cell_type": "markdown",
   "metadata": {},
   "source": [
    "### Definições de variáveis constantes"
   ]
  },
  {
   "cell_type": "code",
   "execution_count": 2,
   "metadata": {},
   "outputs": [],
   "source": [
    "INPUT_UNCOMPRESSED_IMG_PATH = \"lena512.pgm\"\n",
    "COMPRESSED_IMG_PATH = \"lena512.mycompress\"\n",
    "\n",
    "# Alterar essas variáveis irá ativar ou desativar esses métodos de compressão.\n",
    "USE_PREDICTION = True\n",
    "USE_HUFFMAN = True"
   ]
  },
  {
   "cell_type": "markdown",
   "metadata": {},
   "source": [
    "### Implementação da codificação preditiva e sua decodificação"
   ]
  },
  {
   "cell_type": "code",
   "execution_count": 3,
   "metadata": {},
   "outputs": [],
   "source": [
    "def predictionFunction(x, raveledImg):\n",
    "    return raveledImg[x - 1] - 256\n",
    "\n",
    "def predictiveCode(img):\n",
    "    imgShape = img.shape\n",
    "    raveledImg = img.ravel()\n",
    "    firstElement = raveledImg[0]\n",
    "    errorMatrix = np.empty(raveledImg.shape, dtype=int)\n",
    "    # O primeiro elemento será exatamente o primeiro valor.\n",
    "    errorMatrix[0] = raveledImg[0]\n",
    "    for x, currentValue in enumerate(raveledImg[1:], 1):\n",
    "        predictedValue = predictionFunction(x, raveledImg)\n",
    "        error = int(currentValue) - int(predictedValue)\n",
    "        errorMatrix[x] = error\n",
    "    errorMatrix = errorMatrix.reshape(imgShape)\n",
    "    return errorMatrix\n",
    "    \n",
    "def predictiveDecode(errorMatrix):\n",
    "    imgShape = errorMatrix.shape\n",
    "    errorMatrix = errorMatrix.ravel()\n",
    "    img = np.empty(errorMatrix.shape, dtype=int)\n",
    "    # Como a função de predição utiliza o elemento anterior, ao menos o primeiro elemento deve estar preenchido.\n",
    "    img[0] = errorMatrix[0]\n",
    "    for x, error in enumerate(errorMatrix[1:], 1):\n",
    "        predictedValue = predictionFunction(x, img)\n",
    "        img[x] = predictedValue + error\n",
    "    img = img.reshape(imgShape)\n",
    "    return img"
   ]
  },
  {
   "cell_type": "markdown",
   "metadata": {},
   "source": [
    "### Implementação da codificação de Huffman e sua decodificação"
   ]
  },
  {
   "cell_type": "code",
   "execution_count": 4,
   "metadata": {},
   "outputs": [],
   "source": [
    "class Node:\n",
    "    def __init__(self, left, right):\n",
    "        self.left = left\n",
    "        self.right = right\n",
    "    \n",
    "    # Sobrescreve operadores de comparação que são usados na fila de prioridade.\n",
    "    # Como essa comparação só é feita quando a frequência é igual para dois valores, a ordem não fará diferença.\n",
    "    def __lt__(self, other):\n",
    "        return True\n",
    "\n",
    "    def __gt__(self, other):\n",
    "        return True\n",
    "\n",
    "def generatePriorityQueue(img):\n",
    "    values, frequencies = np.unique(img, return_counts=True)\n",
    "    priorityQueue = np.asarray((frequencies, values)).T.tolist()\n",
    "    heapq.heapify(priorityQueue)\n",
    "    return priorityQueue\n",
    "\n",
    "def generateBinaryTree(priorityQueue):\n",
    "    for _ in range(len(priorityQueue) - 1):\n",
    "        lowerElement = heapq.heappop(priorityQueue)\n",
    "        secondLowerElement = heapq.heappop(priorityQueue)\n",
    "        # O primeiro valor da tupla é a frequência e o segundo é o valor em si.\n",
    "        newFrequency = lowerElement[0] + secondLowerElement[0]\n",
    "        node = Node(lowerElement[1], secondLowerElement[1])\n",
    "        heapq.heappush(priorityQueue, [newFrequency, node])\n",
    "    return heapq.heappop(priorityQueue)[1]\n",
    "\n",
    "def recursiveDFS(currentNode, code, currentValue):\n",
    "    currentValue = currentValue + '0'\n",
    "    if isinstance(currentNode.left, Node):\n",
    "        recursiveDFS(currentNode.left, code, currentValue)\n",
    "    else:\n",
    "        code[currentNode.left] = currentValue\n",
    "        \n",
    "    currentValue = currentValue[:-1] + '1'\n",
    "    if isinstance(currentNode.right, Node):\n",
    "        recursiveDFS(currentNode.right, code, currentValue)\n",
    "    else:\n",
    "        code[currentNode.right] = currentValue\n",
    "\n",
    "def generateCode(binaryTree):\n",
    "    initialValue = ''\n",
    "    code = {}\n",
    "    recursiveDFS(binaryTree, code, initialValue)\n",
    "    return code\n",
    "        \n",
    "def huffmanCode(img):\n",
    "    priorityQueue = generatePriorityQueue(img)\n",
    "    binaryTree = generateBinaryTree(priorityQueue)\n",
    "    code = generateCode(binaryTree)\n",
    "    return code"
   ]
  },
  {
   "cell_type": "markdown",
   "metadata": {},
   "source": [
    "### Implementação da codificação binária tradicional"
   ]
  },
  {
   "cell_type": "code",
   "execution_count": 5,
   "metadata": {},
   "outputs": [],
   "source": [
    "def intToBinary(number, length=0):\n",
    "    return bin(number)[2:].zfill(length)\n",
    "\n",
    "def binaryCode(img):\n",
    "    code = {}\n",
    "    uniqueValues = np.unique(img)\n",
    "    minimumBitsLength = len(uniqueValues).bit_length()\n",
    "    for i, value in enumerate(uniqueValues):\n",
    "        code[value] = intToBinary(i, minimumBitsLength)\n",
    "    return code"
   ]
  },
  {
   "cell_type": "markdown",
   "metadata": {},
   "source": [
    "### Definição das funções de escrita e leitura de imagens comprimidas"
   ]
  },
  {
   "cell_type": "code",
   "execution_count": 6,
   "metadata": {},
   "outputs": [],
   "source": [
    "def encodeHeader(img, code):\n",
    "    header = '1' if USE_PREDICTION else '0'\n",
    "    header += '1' if USE_HUFFMAN else '0'\n",
    "    # Armazena as dimensões da imagem usando 2 bytes\n",
    "    header += intToBinary(len(img), 16)\n",
    "    header += intToBinary(len(img[0]), 16)\n",
    "    # O intervalo de valores possíveis é [0, 511].\n",
    "    # Esses valores podem ser representados usando, no máximo, 9 bits\n",
    "    header += intToBinary(len(code), 9)\n",
    "    for key, value in code.items():\n",
    "        # O intervalo de valores possíveis é [0, 511].\n",
    "        # Esses valores podem ser representados usando, no máximo, 9 bits\n",
    "        header += intToBinary(key, 9)\n",
    "        # O intervalo de valores possíveis é [0, 9] (tamanho da string acima).\n",
    "        # Esses valores podem ser representados usando, no máximo, 4 bits\n",
    "        header += intToBinary(len(value), 4)\n",
    "        header += value\n",
    "    return header\n",
    "\n",
    "def decodeHeader(encodedBinaryFile):\n",
    "    header = {}\n",
    "    header['usesPrediction'] = bool(int(encodedBinaryFile[0]))\n",
    "    header['usesHuffman'] = bool(int(encodedBinaryFile[1]))\n",
    "    header['yDimension'] = int(encodedBinaryFile[2:18], 2)\n",
    "    header['xDimension'] = int(encodedBinaryFile[18:34], 2)\n",
    "    header['codeSize'] = int(encodedBinaryFile[34:43], 2)\n",
    "    header['code'] = {}\n",
    "    encodedBinaryFile = encodedBinaryFile[43:]\n",
    "    for i in range(0, header['codeSize']):\n",
    "        key = int(encodedBinaryFile[0:9], 2)\n",
    "        valueSize = int(encodedBinaryFile[9:13], 2)\n",
    "        value = encodedBinaryFile[13:13+valueSize]\n",
    "        encodedBinaryFile = encodedBinaryFile[9+4+valueSize:]\n",
    "        header['code'][key] = value\n",
    "    return header, encodedBinaryFile\n",
    "\n",
    "def decodeBinaryFile(encodedBinaryFile):\n",
    "    headerData, body = decodeHeader(encodedBinaryFile)\n",
    "    print(headerData)\n",
    "#     img = decodeBinaryCode(body) if headerData['usesHuffman'] else decodeHuffmanCode(body)\n",
    "#     if (headerData['usesPrediction']):\n",
    "#         img = predictiveDecode(img)\n",
    "#     return img\n",
    "    return None\n",
    "\n",
    "def encodeBody(img, code):\n",
    "    body = ''\n",
    "    for line in img:\n",
    "        for cell in line:\n",
    "            body += code[cell]\n",
    "    return body\n",
    "\n",
    "def encodeIntToBytes(number):\n",
    "    return b''.join(int(number[i:i+8], 2).to_bytes(1, byteorder='big') for i in range(0, len(number), 8))\n",
    "\n",
    "def decodeBytesToBinaryString(byteString):\n",
    "    return ''.join(intToBinary(byte, 8) for byte in byteString)\n",
    "\n",
    "def generateCompressedImageByteArray(header, body):\n",
    "    compressedImage = header + body\n",
    "    lengthDifferenceToEight = len(compressedImage) % 8\n",
    "    if lengthDifferenceToEight != 0:\n",
    "        compressedImage += intToBinary(0, 8 - lengthDifferenceToEight)\n",
    "    compressedImage = encodeIntToBytes(compressedImage)\n",
    "    return compressedImage\n",
    "\n",
    "def writeCompressedImage(img, code):\n",
    "    header = encodeHeader(img, code)\n",
    "    body = encodeBody(img, code)\n",
    "    imageByteArray = generateCompressedImageByteArray(header, body)\n",
    "    with open(COMPRESSED_IMG_PATH, 'wb') as file:\n",
    "        file.write(imageByteArray)\n",
    "\n",
    "def readCompressedImage():\n",
    "    with open(COMPRESSED_IMG_PATH, 'rb') as file:\n",
    "        fileContent = file.read()\n",
    "    encodedBinaryString = decodeBytesToBinaryString(fileContent)\n",
    "    img = decodeBinaryFile(encodedBinaryString)\n",
    "    return img"
   ]
  },
  {
   "cell_type": "markdown",
   "metadata": {},
   "source": [
    "### Definição das funções gerais"
   ]
  },
  {
   "cell_type": "code",
   "execution_count": 7,
   "metadata": {},
   "outputs": [],
   "source": [
    "def showImage(img, title=\"Image\"):\n",
    "    plt.title(title)\n",
    "    plt.imshow(img, cmap = 'gray')\n",
    "    plt.show()\n",
    "\n",
    "def compressImage():\n",
    "    img = cv2.imread(INPUT_UNCOMPRESSED_IMG_PATH, cv2.IMREAD_GRAYSCALE)\n",
    "    if USE_PREDICTION:\n",
    "        img = predictiveCode(img)\n",
    "    if USE_HUFFMAN:\n",
    "        code = huffmanCode(img)\n",
    "    else:\n",
    "        code = binaryCode(img)\n",
    "    writeCompressedImage(img, code)"
   ]
  },
  {
   "cell_type": "markdown",
   "metadata": {},
   "source": [
    "### Sandbox para uso das funções"
   ]
  },
  {
   "cell_type": "code",
   "execution_count": 8,
   "metadata": {},
   "outputs": [],
   "source": [
    "USE_PREDICTION = True\n",
    "USE_HUFFMAN = True\n",
    "compressImage()"
   ]
  },
  {
   "cell_type": "code",
   "execution_count": 9,
   "metadata": {},
   "outputs": [],
   "source": [
    "USE_PREDICTION = True\n",
    "USE_HUFFMAN = False\n",
    "compressImage()"
   ]
  },
  {
   "cell_type": "code",
   "execution_count": 10,
   "metadata": {},
   "outputs": [],
   "source": [
    "USE_PREDICTION = False\n",
    "USE_HUFFMAN = True\n",
    "compressImage()"
   ]
  },
  {
   "cell_type": "code",
   "execution_count": 11,
   "metadata": {},
   "outputs": [],
   "source": [
    "# Embora não use ambos os métodos implementados, a imagem poderá ficar menor\n",
    "# que a original devido à codificação binária, que é utilizada quando não é\n",
    "# utilizado o Huffman. Essa codificação pode diminuir a quantidade de bits por\n",
    "# pixel se a imagem possuir poucos pixels de valores diferentes. Este caso\n",
    "# ocorre na imagem coins.pgm\n",
    "USE_PREDICTION = False\n",
    "USE_HUFFMAN = False\n",
    "compressImage()"
   ]
  },
  {
   "cell_type": "code",
   "execution_count": 12,
   "metadata": {},
   "outputs": [
    {
     "name": "stdout",
     "output_type": "stream",
     "text": [
      "{'usesPrediction': False, 'usesHuffman': False, 'yDimension': 512, 'xDimension': 512, 'codeSize': 215, 'code': {25: '00000000', 26: '00000001', 27: '00000010', 28: '00000011', 29: '00000100', 30: '00000101', 31: '00000110', 32: '00000111', 33: '00001000', 34: '00001001', 35: '00001010', 36: '00001011', 37: '00001100', 38: '00001101', 39: '00001110', 40: '00001111', 41: '00010000', 42: '00010001', 43: '00010010', 44: '00010011', 45: '00010100', 46: '00010101', 47: '00010110', 48: '00010111', 49: '00011000', 50: '00011001', 51: '00011010', 52: '00011011', 53: '00011100', 54: '00011101', 55: '00011110', 56: '00011111', 57: '00100000', 58: '00100001', 59: '00100010', 60: '00100011', 61: '00100100', 62: '00100101', 63: '00100110', 64: '00100111', 65: '00101000', 66: '00101001', 67: '00101010', 68: '00101011', 69: '00101100', 70: '00101101', 71: '00101110', 72: '00101111', 73: '00110000', 74: '00110001', 75: '00110010', 76: '00110011', 77: '00110100', 78: '00110101', 79: '00110110', 80: '00110111', 81: '00111000', 82: '00111001', 83: '00111010', 84: '00111011', 85: '00111100', 86: '00111101', 87: '00111110', 88: '00111111', 89: '01000000', 90: '01000001', 91: '01000010', 92: '01000011', 93: '01000100', 94: '01000101', 95: '01000110', 96: '01000111', 97: '01001000', 98: '01001001', 99: '01001010', 100: '01001011', 101: '01001100', 102: '01001101', 103: '01001110', 104: '01001111', 105: '01010000', 106: '01010001', 107: '01010010', 108: '01010011', 109: '01010100', 110: '01010101', 111: '01010110', 112: '01010111', 113: '01011000', 114: '01011001', 115: '01011010', 116: '01011011', 117: '01011100', 118: '01011101', 119: '01011110', 120: '01011111', 121: '01100000', 122: '01100001', 123: '01100010', 124: '01100011', 125: '01100100', 126: '01100101', 127: '01100110', 128: '01100111', 129: '01101000', 130: '01101001', 131: '01101010', 132: '01101011', 133: '01101100', 134: '01101101', 135: '01101110', 136: '01101111', 137: '01110000', 138: '01110001', 139: '01110010', 140: '01110011', 141: '01110100', 142: '01110101', 143: '01110110', 144: '01110111', 145: '01111000', 146: '01111001', 147: '01111010', 148: '01111011', 149: '01111100', 150: '01111101', 151: '01111110', 152: '01111111', 153: '10000000', 154: '10000001', 155: '10000010', 156: '10000011', 157: '10000100', 158: '10000101', 159: '10000110', 160: '10000111', 161: '10001000', 162: '10001001', 163: '10001010', 164: '10001011', 165: '10001100', 166: '10001101', 167: '10001110', 168: '10001111', 169: '10010000', 170: '10010001', 171: '10010010', 172: '10010011', 173: '10010100', 174: '10010101', 175: '10010110', 176: '10010111', 177: '10011000', 178: '10011001', 179: '10011010', 180: '10011011', 181: '10011100', 182: '10011101', 183: '10011110', 184: '10011111', 185: '10100000', 186: '10100001', 187: '10100010', 188: '10100011', 189: '10100100', 190: '10100101', 191: '10100110', 192: '10100111', 193: '10101000', 194: '10101001', 195: '10101010', 196: '10101011', 197: '10101100', 198: '10101101', 199: '10101110', 200: '10101111', 201: '10110000', 202: '10110001', 203: '10110010', 204: '10110011', 205: '10110100', 206: '10110101', 207: '10110110', 208: '10110111', 209: '10111000', 210: '10111001', 211: '10111010', 212: '10111011', 213: '10111100', 214: '10111101', 215: '10111110', 216: '10111111', 217: '11000000', 218: '11000001', 219: '11000010', 220: '11000011', 221: '11000100', 222: '11000101', 223: '11000110', 224: '11000111', 225: '11001000', 226: '11001001', 227: '11001010', 228: '11001011', 229: '11001100', 230: '11001101', 231: '11001110', 232: '11001111', 233: '11010000', 234: '11010001', 235: '11010010', 238: '11010011', 242: '11010100', 244: '11010101', 245: '11010110'}}\n"
     ]
    }
   ],
   "source": [
    "readCompressedImage()"
   ]
  }
 ],
 "metadata": {
  "kernelspec": {
   "display_name": "Python 3",
   "language": "python",
   "name": "python3"
  },
  "language_info": {
   "codemirror_mode": {
    "name": "ipython",
    "version": 3
   },
   "file_extension": ".py",
   "mimetype": "text/x-python",
   "name": "python",
   "nbconvert_exporter": "python",
   "pygments_lexer": "ipython3",
   "version": "3.8.6"
  }
 },
 "nbformat": 4,
 "nbformat_minor": 4
}
