{
 "cells": [
  {
   "cell_type": "markdown",
   "metadata": {},
   "source": [
    "# Trabalho Prático 1 - Introdução à Computação Visual"
   ]
  },
  {
   "cell_type": "markdown",
   "metadata": {},
   "source": [
    "## Introdução\n",
    "\n",
    "O objetivo deste trabalho é a implementação de um método de compressão de imagens em escala de cinza. Deverá ser possível comprimir uma imagem sem compressão passada como entrada, salvar essa imagem e, posteriormente, passar como entrada uma imagem comprimida pelo método aqui implementado e exibi-la. A compressão pode ser tanto com perda quanto sem perda. O PSNR deverá ser exibido após a compressão da imagem."
   ]
  },
  {
   "cell_type": "markdown",
   "metadata": {},
   "source": [
    "## Implementação\n",
    "\n",
    "O método implementado neste trabalho consiste na implementação da codificação preditiva sem perdas com o processo da codificação de Huffman no final. Para uma dada imagem inserida, o compressor irá salvar somente o primeiro pixel da imagem, presente na origem (0, 0). A partir daí, uma função de predição irá tentar retornar o valor do próximo pixel. A diferença entre o valor predito e o valor real será o erro obtido. Esse erro será o valor salvo para codificação naquele ponto, de forma a reduzir a entropia da imagem, obtendo, no final, uma matriz com uma frequência alta de poucos valores. Os valores dessa matriz serão, ao final, codificados em uma árvore com a codificação de Huffman, diminuindo o número médio de bits por pixel.\n",
    "\n",
    "Para obter a imagem novamente, será necessário somente realizar um processo para reverter a codificação de Huffman e, a partir do primeiro pixel, gerar os pixels seguintes, de acordo com a diferença obtida entre a função inversa de predição e o valor real, que estará na matriz.\n",
    "\n",
    "Para podermos testar o impacto de cada um dos dois métodos utilizados na taxa de compressão, o algoritmo será modularizado e parametrizado de forma que possa ser utilizado livremente qualquer um dos dois métodos a qualquer momento, além de poder utilizar os dois em conjunto."
   ]
  },
  {
   "cell_type": "markdown",
   "metadata": {},
   "source": [
    "### Importações"
   ]
  },
  {
   "cell_type": "code",
   "execution_count": 1,
   "metadata": {},
   "outputs": [],
   "source": [
    "%matplotlib inline\n",
    "import cv2\n",
    "import numpy as np\n",
    "from matplotlib import pyplot as plt\n",
    "import heapq"
   ]
  },
  {
   "cell_type": "markdown",
   "metadata": {},
   "source": [
    "### Definições de variáveis constantes"
   ]
  },
  {
   "cell_type": "code",
   "execution_count": 2,
   "metadata": {},
   "outputs": [],
   "source": [
    "INPUT_UNCOMPRESSED_IMG_PATH = \"lena512.pgm\"\n",
    "COMPRESSED_IMG_PATH = \"lena512.mycompress\"\n",
    "\n",
    "# Alterar essas variáveis irá ativar ou desativar esses métodos de compressão.\n",
    "USE_PREDICTION = True\n",
    "USE_HUFFMAN = True"
   ]
  },
  {
   "cell_type": "markdown",
   "metadata": {},
   "source": [
    "### Implementação da codificação preditiva e sua decodificação"
   ]
  },
  {
   "cell_type": "code",
   "execution_count": 3,
   "metadata": {},
   "outputs": [],
   "source": [
    "def predictionFunction(x, raveledImg):\n",
    "    return raveledImg[x - 1] - 256\n",
    "\n",
    "def predictiveCode(img):\n",
    "    imgShape = img.shape\n",
    "    raveledImg = img.ravel()\n",
    "    firstElement = raveledImg[0]\n",
    "    errorMatrix = np.empty(raveledImg.shape, dtype=int)\n",
    "    # O primeiro elemento será exatamente o primeiro valor.\n",
    "    errorMatrix[0] = raveledImg[0]\n",
    "    for x, currentValue in enumerate(raveledImg[1:], 1):\n",
    "        predictedValue = predictionFunction(x, raveledImg)\n",
    "        error = int(currentValue) - int(predictedValue)\n",
    "        errorMatrix[x] = error\n",
    "    errorMatrix = errorMatrix.reshape(imgShape)\n",
    "    return errorMatrix\n",
    "    \n",
    "def predictiveDecode(errorMatrix):\n",
    "    imgShape = errorMatrix.shape\n",
    "    errorMatrix = errorMatrix.ravel()\n",
    "    img = np.empty(errorMatrix.shape, dtype=int)\n",
    "    # Como a função de predição utiliza o elemento anterior, ao menos o primeiro elemento deve estar preenchido.\n",
    "    img[0] = errorMatrix[0]\n",
    "    for x, error in enumerate(errorMatrix[1:], 1):\n",
    "        predictedValue = predictionFunction(x, img)\n",
    "        img[x] = predictedValue + error\n",
    "    img = img.reshape(imgShape)\n",
    "    return img"
   ]
  },
  {
   "cell_type": "markdown",
   "metadata": {},
   "source": [
    "### Implementação da codificação de Huffman e sua decodificação"
   ]
  },
  {
   "cell_type": "code",
   "execution_count": 4,
   "metadata": {},
   "outputs": [],
   "source": [
    "class Node:\n",
    "    def __init__(self, left, right):\n",
    "        self.left = left\n",
    "        self.right = right\n",
    "    \n",
    "    # Sobrescreve operadores de comparação que são usados na fila de prioridade.\n",
    "    # Como essa comparação só é feita quando a frequência é igual para dois valores, a ordem não fará diferença.\n",
    "    def __lt__(self, other):\n",
    "        return True\n",
    "\n",
    "    def __gt__(self, other):\n",
    "        return True\n",
    "\n",
    "def generatePriorityQueue(img):\n",
    "    values, frequencies = np.unique(img, return_counts=True)\n",
    "    priorityQueue = np.asarray((frequencies, values)).T.tolist()\n",
    "    heapq.heapify(priorityQueue)\n",
    "    return priorityQueue\n",
    "\n",
    "def generateBinaryTree(priorityQueue):\n",
    "    for _ in range(len(priorityQueue) - 1):\n",
    "        lowerElement = heapq.heappop(priorityQueue)\n",
    "        secondLowerElement = heapq.heappop(priorityQueue)\n",
    "        # O primeiro valor da tupla é a frequência e o segundo é o valor em si.\n",
    "        newFrequency = lowerElement[0] + secondLowerElement[0]\n",
    "        node = Node(lowerElement[1], secondLowerElement[1])\n",
    "        heapq.heappush(priorityQueue, [newFrequency, node])\n",
    "    return heapq.heappop(priorityQueue)[1]\n",
    "\n",
    "def recursiveDFS(currentNode, code, currentValue):\n",
    "    currentValue = currentValue + '0'\n",
    "    if isinstance(currentNode.left, Node):\n",
    "        recursiveDFS(currentNode.left, code, currentValue)\n",
    "    else:\n",
    "        code[currentNode.left] = currentValue\n",
    "        \n",
    "    currentValue = currentValue[:-1] + '1'\n",
    "    if isinstance(currentNode.right, Node):\n",
    "        recursiveDFS(currentNode.right, code, currentValue)\n",
    "    else:\n",
    "        code[currentNode.right] = currentValue\n",
    "\n",
    "def generateCode(binaryTree):\n",
    "    initialValue = ''\n",
    "    code = {}\n",
    "    recursiveDFS(binaryTree, code, initialValue)\n",
    "    return code\n",
    "        \n",
    "def huffmanCode(img):\n",
    "    priorityQueue = generatePriorityQueue(img)\n",
    "    binaryTree = generateBinaryTree(priorityQueue)\n",
    "    code = generateCode(binaryTree)\n",
    "    return code"
   ]
  },
  {
   "cell_type": "markdown",
   "metadata": {},
   "source": [
    "### Implementação da codificação binária tradicional"
   ]
  },
  {
   "cell_type": "code",
   "execution_count": 5,
   "metadata": {},
   "outputs": [],
   "source": [
    "def intToBinary(number, length):\n",
    "    return bin(number)[2:].zfill(length)\n",
    "\n",
    "def binaryCode(img):\n",
    "    code = {}\n",
    "    uniqueValues = np.unique(img)\n",
    "    minimumBitsLength = len(uniqueValues).bit_length()\n",
    "    for i, value in enumerate(uniqueValues):\n",
    "        code[value] = intToBinary(i, minimumBitsLength)\n",
    "    return code"
   ]
  },
  {
   "cell_type": "markdown",
   "metadata": {},
   "source": [
    "### Definição das funções de escrita e leitura de imagens comprimidas"
   ]
  },
  {
   "cell_type": "code",
   "execution_count": 6,
   "metadata": {},
   "outputs": [],
   "source": [
    "def encodeHeader(img, code):\n",
    "    header = '1' if USE_PREDICTION else '0'\n",
    "    header += '1' if USE_HUFFMAN else '0'\n",
    "    # Armazena as dimensões da imagem usando 2 bytes\n",
    "    header += intToBinary(len(img), 16)\n",
    "    header += intToBinary(len(img[0]), 16)\n",
    "    for key, value in code.items():\n",
    "        # O intervalo de valores possíveis é [0, 511].\n",
    "        # Esses valores podem ser representados usando, no máximo, 9 bits\n",
    "        header += intToBinary(key, 9)\n",
    "        # O intervalo de valores possíveis é [0, 9] (tamanho da string acima).\n",
    "        # Esses valores podem ser representados usando, no máximo, 4 bits\n",
    "        header += intToBinary(len(value), 4)\n",
    "        header += value\n",
    "    return header\n",
    "\n",
    "def encodeBody(img, code):\n",
    "    body = ''\n",
    "    for line in img:\n",
    "        for cell in line:\n",
    "            body += code[cell]\n",
    "    return body\n",
    "\n",
    "def generateCompressedImageByteArray(header, body):\n",
    "    compressedImage = header + body\n",
    "    lengthDifferenceToEight = len(compressedImage) % 8\n",
    "    if lengthDifferenceToEight != 0:\n",
    "        compressedImage += intToBinary(0, 8 - lengthDifferenceToEight)\n",
    "    return bytearray(int(compressedImage[i:i+8], 2) for i in range(0, len(compressedImage), 8))    \n",
    "\n",
    "def writeCompressedImage(img, code):\n",
    "    header = encodeHeader(img, code)\n",
    "    body = encodeBody(img, code)\n",
    "    imageByteArray = generateCompressedImageByteArray(header, body)\n",
    "    with open(COMPRESSED_IMG_PATH, 'wb') as file:\n",
    "        file.write(imageByteArray)\n",
    "    \n",
    "def readCompressedImage(file):\n",
    "    None"
   ]
  },
  {
   "cell_type": "markdown",
   "metadata": {},
   "source": [
    "### Definição das funções gerais"
   ]
  },
  {
   "cell_type": "code",
   "execution_count": 7,
   "metadata": {},
   "outputs": [],
   "source": [
    "def showImage(img, title=\"Image\"):\n",
    "    plt.title(title)\n",
    "    plt.imshow(img, cmap = 'gray')\n",
    "    plt.show()\n",
    "\n",
    "def compressImageAndShowResults():\n",
    "    img = cv2.imread(INPUT_UNCOMPRESSED_IMG_PATH, cv2.IMREAD_GRAYSCALE)\n",
    "    if USE_PREDICTION:\n",
    "        img = predictiveCode(img)\n",
    "    if USE_HUFFMAN:\n",
    "        code = huffmanCode(img)\n",
    "    else:\n",
    "        code = binaryCode(img)\n",
    "    writeCompressedImage(img, code)"
   ]
  },
  {
   "cell_type": "markdown",
   "metadata": {},
   "source": [
    "### Sandbox para uso das funções"
   ]
  },
  {
   "cell_type": "code",
   "execution_count": 8,
   "metadata": {},
   "outputs": [],
   "source": [
    "USE_PREDICTION = True\n",
    "USE_HUFFMAN = True\n",
    "compressImageAndShowResults()"
   ]
  },
  {
   "cell_type": "code",
   "execution_count": 9,
   "metadata": {},
   "outputs": [],
   "source": [
    "USE_PREDICTION = True\n",
    "USE_HUFFMAN = False\n",
    "compressImageAndShowResults()"
   ]
  },
  {
   "cell_type": "code",
   "execution_count": 10,
   "metadata": {},
   "outputs": [],
   "source": [
    "USE_PREDICTION = False\n",
    "USE_HUFFMAN = True\n",
    "compressImageAndShowResults()"
   ]
  },
  {
   "cell_type": "code",
   "execution_count": 11,
   "metadata": {},
   "outputs": [],
   "source": [
    "# A imagem \"comprimida\" gerada neste caso sempre terá um tamanho\n",
    "# quase idêntico à imagem original, com a diferença somente do\n",
    "# acréscimo do tamanho do cabeçalho.\n",
    "USE_PREDICTION = False\n",
    "USE_HUFFMAN = False\n",
    "compressImageAndShowResults()"
   ]
  }
 ],
 "metadata": {
  "kernelspec": {
   "display_name": "Python 3",
   "language": "python",
   "name": "python3"
  },
  "language_info": {
   "codemirror_mode": {
    "name": "ipython",
    "version": 3
   },
   "file_extension": ".py",
   "mimetype": "text/x-python",
   "name": "python",
   "nbconvert_exporter": "python",
   "pygments_lexer": "ipython3",
   "version": "3.8.6"
  }
 },
 "nbformat": 4,
 "nbformat_minor": 4
}
